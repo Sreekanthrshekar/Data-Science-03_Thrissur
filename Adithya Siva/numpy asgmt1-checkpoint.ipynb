{
 "cells": [
  {
   "cell_type": "code",
   "execution_count": 1,
   "metadata": {},
   "outputs": [],
   "source": [
    "#1. write a python program to take a 3*3 matrix as a user input.convert the matrix into numpy .print the matrix ,rank,shape of the matrix"
   ]
  },
  {
   "cell_type": "code",
   "execution_count": 8,
   "metadata": {},
   "outputs": [],
   "source": [
    "import numpy as np"
   ]
  },
  {
   "cell_type": "code",
   "execution_count": 44,
   "metadata": {},
   "outputs": [
    {
     "name": "stdout",
     "output_type": "stream",
     "text": [
      "please input your first row:Enter the entries in a single line(separated by space)3 6 5\n",
      "please input your second row:Enter the entries in a single line(separated by space)2 6 1\n",
      "please input your third row:Enter the entries in a single line(separated by space)0 7 5\n"
     ]
    }
   ],
   "source": [
    "list_1=list(map(int,input('''please input your first row:Enter the entries in a single line(separated by space)''').split()))\n",
    "list_2=list(map(int,input('''please input your second row:Enter the entries in a single line(separated by space)''').split()))\n",
    "list_3=list(map(int,input('''please input your third row:Enter the entries in a single line(separated by space)''').split()))"
   ]
  },
  {
   "cell_type": "code",
   "execution_count": 45,
   "metadata": {},
   "outputs": [],
   "source": [
    "lst=[]"
   ]
  },
  {
   "cell_type": "code",
   "execution_count": 46,
   "metadata": {},
   "outputs": [],
   "source": [
    "lst.append(list_1)"
   ]
  },
  {
   "cell_type": "code",
   "execution_count": 47,
   "metadata": {},
   "outputs": [],
   "source": [
    "lst.append(list_2)"
   ]
  },
  {
   "cell_type": "code",
   "execution_count": 48,
   "metadata": {},
   "outputs": [],
   "source": [
    "lst.append(list_3)"
   ]
  },
  {
   "cell_type": "code",
   "execution_count": 49,
   "metadata": {},
   "outputs": [
    {
     "name": "stdout",
     "output_type": "stream",
     "text": [
      "  matrix[[3, 6, 5], [2, 6, 1], [0, 7, 5]]\n"
     ]
    }
   ],
   "source": [
    "print(f'''  matrix{lst}''')"
   ]
  },
  {
   "cell_type": "code",
   "execution_count": 50,
   "metadata": {},
   "outputs": [],
   "source": [
    "a=np.array(lst)"
   ]
  },
  {
   "cell_type": "code",
   "execution_count": 51,
   "metadata": {},
   "outputs": [
    {
     "name": "stdout",
     "output_type": "stream",
     "text": [
      "  As array [[3 6 5]\n",
      " [2 6 1]\n",
      " [0 7 5]]\n"
     ]
    }
   ],
   "source": [
    "print(f'''  As array {a}''')"
   ]
  },
  {
   "cell_type": "code",
   "execution_count": 52,
   "metadata": {},
   "outputs": [],
   "source": [
    "j=a.ndim"
   ]
  },
  {
   "cell_type": "code",
   "execution_count": 53,
   "metadata": {},
   "outputs": [],
   "source": [
    "h=a.shape"
   ]
  },
  {
   "cell_type": "code",
   "execution_count": 54,
   "metadata": {},
   "outputs": [
    {
     "name": "stdout",
     "output_type": "stream",
     "text": [
      "  Rank2\n"
     ]
    }
   ],
   "source": [
    "print(f'''  Rank{j}''')"
   ]
  },
  {
   "cell_type": "code",
   "execution_count": 55,
   "metadata": {},
   "outputs": [
    {
     "name": "stdout",
     "output_type": "stream",
     "text": [
      "shape(3, 3)\n"
     ]
    }
   ],
   "source": [
    "print(f'''shape{h}''')"
   ]
  },
  {
   "cell_type": "code",
   "execution_count": null,
   "metadata": {},
   "outputs": [],
   "source": []
  },
  {
   "cell_type": "code",
   "execution_count": null,
   "metadata": {},
   "outputs": [],
   "source": [
    "#write a function that generates 10 integers and use it to build an array"
   ]
  },
  {
   "cell_type": "code",
   "execution_count": 56,
   "metadata": {},
   "outputs": [],
   "source": [
    "r=range(10)"
   ]
  },
  {
   "cell_type": "code",
   "execution_count": 57,
   "metadata": {},
   "outputs": [
    {
     "name": "stdout",
     "output_type": "stream",
     "text": [
      "range(0, 10)\n"
     ]
    }
   ],
   "source": [
    "print(r)"
   ]
  },
  {
   "cell_type": "code",
   "execution_count": 58,
   "metadata": {},
   "outputs": [],
   "source": [
    "a=np.array(r)"
   ]
  },
  {
   "cell_type": "code",
   "execution_count": 59,
   "metadata": {},
   "outputs": [
    {
     "name": "stdout",
     "output_type": "stream",
     "text": [
      "[0 1 2 3 4 5 6 7 8 9]\n"
     ]
    }
   ],
   "source": [
    "print(a)"
   ]
  },
  {
   "cell_type": "code",
   "execution_count": null,
   "metadata": {},
   "outputs": [],
   "source": [
    "#create a random vector (1D array)of size 10 and sort it"
   ]
  },
  {
   "cell_type": "code",
   "execution_count": 68,
   "metadata": {},
   "outputs": [],
   "source": [
    "rand=list(np.random.randint(0,100,10))"
   ]
  },
  {
   "cell_type": "code",
   "execution_count": 70,
   "metadata": {},
   "outputs": [
    {
     "name": "stdout",
     "output_type": "stream",
     "text": [
      "random list of 10 numbers is [92, 18, 45, 1, 77, 70, 86, 80, 97, 97]\n"
     ]
    }
   ],
   "source": [
    "print(f\"random list of 10 numbers is {rand}\")"
   ]
  },
  {
   "cell_type": "code",
   "execution_count": 71,
   "metadata": {},
   "outputs": [],
   "source": [
    "k=sorted(rand)"
   ]
  },
  {
   "cell_type": "code",
   "execution_count": 73,
   "metadata": {},
   "outputs": [
    {
     "name": "stdout",
     "output_type": "stream",
     "text": [
      "sorted list of the above is [1, 18, 45, 70, 77, 80, 86, 92, 97, 97]\n"
     ]
    }
   ],
   "source": [
    "print(f\"sorted list of the above is {k}\")"
   ]
  },
  {
   "cell_type": "code",
   "execution_count": 66,
   "metadata": {},
   "outputs": [],
   "source": [
    "#write a python program t generate five random numbers from the normal distribution "
   ]
  },
  {
   "cell_type": "code",
   "execution_count": 74,
   "metadata": {},
   "outputs": [
    {
     "name": "stdout",
     "output_type": "stream",
     "text": [
      "[ 0.03473095  0.45829501 -1.25763231 -0.97236752  0.79964205]\n"
     ]
    }
   ],
   "source": [
    "q=np.random.normal(size=5)\n",
    "print(q)"
   ]
  },
  {
   "cell_type": "code",
   "execution_count": null,
   "metadata": {},
   "outputs": [],
   "source": [
    "#write a numpy program to add and subtract two random matrices.The size of matrix element should be a positive integer value.suppose 'A'and 'B' are two matrix .Allthe value of 'A' matrix cannot be greater than 10 and values of 'B'matrix cannot be greater than 20 "
   ]
  },
  {
   "cell_type": "code",
   "execution_count": 77,
   "metadata": {},
   "outputs": [
    {
     "name": "stdout",
     "output_type": "stream",
     "text": [
      "please enter the number of rows:5\n"
     ]
    }
   ],
   "source": [
    "\n",
    "n=int(input('''please enter the number of rows:'''))      "
   ]
  },
  {
   "cell_type": "code",
   "execution_count": 78,
   "metadata": {},
   "outputs": [
    {
     "name": "stdout",
     "output_type": "stream",
     "text": [
      "please enter the number of columns9\n"
     ]
    }
   ],
   "source": [
    "m=int(input('''please enter the number of columns'''))"
   ]
  },
  {
   "cell_type": "code",
   "execution_count": 79,
   "metadata": {},
   "outputs": [],
   "source": [
    "a=np.random.randint(1,10,(n,m))"
   ]
  },
  {
   "cell_type": "code",
   "execution_count": 80,
   "metadata": {},
   "outputs": [
    {
     "name": "stdout",
     "output_type": "stream",
     "text": [
      " A[[5 3 6 2 8 8 9 6 4]\n",
      " [3 7 6 2 7 5 1 3 3]\n",
      " [4 6 1 1 8 9 1 6 6]\n",
      " [9 8 9 6 2 4 3 6 8]\n",
      " [2 8 3 3 8 3 6 8 7]]\n"
     ]
    }
   ],
   "source": [
    "print(f''' A{a}''')"
   ]
  },
  {
   "cell_type": "code",
   "execution_count": 81,
   "metadata": {},
   "outputs": [],
   "source": [
    "b=np.random.randint(1,20,(n,m))"
   ]
  },
  {
   "cell_type": "code",
   "execution_count": 82,
   "metadata": {},
   "outputs": [
    {
     "name": "stdout",
     "output_type": "stream",
     "text": [
      " B[[ 4  2  9 19 18 14  7  6  8]\n",
      " [16 19 10  3  9  6  1 14  5]\n",
      " [12 15 18 19  8 10 16  6 15]\n",
      " [ 5  2 18  7  9 18  9 19  5]\n",
      " [15  2 18  6 17  2  8  4  6]]\n"
     ]
    }
   ],
   "source": [
    "print(f''' B{b}''')"
   ]
  },
  {
   "cell_type": "code",
   "execution_count": 83,
   "metadata": {},
   "outputs": [],
   "source": [
    "q=a+b"
   ]
  },
  {
   "cell_type": "code",
   "execution_count": 84,
   "metadata": {},
   "outputs": [
    {
     "name": "stdout",
     "output_type": "stream",
     "text": [
      " Addition[[ 9  5 15 21 26 22 16 12 12]\n",
      " [19 26 16  5 16 11  2 17  8]\n",
      " [16 21 19 20 16 19 17 12 21]\n",
      " [14 10 27 13 11 22 12 25 13]\n",
      " [17 10 21  9 25  5 14 12 13]]\n"
     ]
    }
   ],
   "source": [
    "print(f''' Addition{q}''')"
   ]
  },
  {
   "cell_type": "code",
   "execution_count": 85,
   "metadata": {},
   "outputs": [],
   "source": [
    "k=a-b"
   ]
  },
  {
   "cell_type": "code",
   "execution_count": 86,
   "metadata": {},
   "outputs": [
    {
     "name": "stdout",
     "output_type": "stream",
     "text": [
      " subtraction[[  1   1  -3 -17 -10  -6   2   0  -4]\n",
      " [-13 -12  -4  -1  -2  -1   0 -11  -2]\n",
      " [ -8  -9 -17 -18   0  -1 -15   0  -9]\n",
      " [  4   6  -9  -1  -7 -14  -6 -13   3]\n",
      " [-13   6 -15  -3  -9   1  -2   4   1]]\n"
     ]
    }
   ],
   "source": [
    "print(f''' subtraction{k}''')"
   ]
  },
  {
   "cell_type": "code",
   "execution_count": null,
   "metadata": {},
   "outputs": [],
   "source": [
    "#write  a numpy prgram to mutiply two random matrices will a user input .All the matrix element should be apostive integer values .suppose 'A'and 'B'are two matrix.All the value of 'A','B' matrixs cannot be greater than 10."
   ]
  },
  {
   "cell_type": "code",
   "execution_count": 9,
   "metadata": {},
   "outputs": [
    {
     "name": "stdout",
     "output_type": "stream",
     "text": [
      "enter the number of rows for matrix 1:5\n"
     ]
    }
   ],
   "source": [
    "n=int(input('''enter the number of rows for matrix 1:'''))"
   ]
  },
  {
   "cell_type": "markdown",
   "metadata": {},
   "source": [
    "###### m=int(input('''enter the number of columns for matrix 1:'''))"
   ]
  },
  {
   "cell_type": "code",
   "execution_count": 10,
   "metadata": {},
   "outputs": [
    {
     "name": "stdout",
     "output_type": "stream",
     "text": [
      "enter the number of  columns for matrix 1:6\n"
     ]
    }
   ],
   "source": [
    "m=int(input('''enter the number of  columns for matrix 1:'''))"
   ]
  },
  {
   "cell_type": "code",
   "execution_count": 11,
   "metadata": {},
   "outputs": [
    {
     "name": "stdout",
     "output_type": "stream",
     "text": [
      "enter the number of rows for matrix 2:6\n"
     ]
    }
   ],
   "source": [
    "p=int(input('''enter the number of rows for matrix 2:'''))"
   ]
  },
  {
   "cell_type": "code",
   "execution_count": 12,
   "metadata": {},
   "outputs": [
    {
     "name": "stdout",
     "output_type": "stream",
     "text": [
      "enter the number of columns for matrix 2:6\n"
     ]
    }
   ],
   "source": [
    "q=int(input('''enter the number of columns for matrix 2:'''))"
   ]
  },
  {
   "cell_type": "code",
   "execution_count": 13,
   "metadata": {},
   "outputs": [],
   "source": [
    "a=np.random.randint(1,10,(n,m))"
   ]
  },
  {
   "cell_type": "code",
   "execution_count": 14,
   "metadata": {},
   "outputs": [
    {
     "name": "stdout",
     "output_type": "stream",
     "text": [
      " A[[4 1 6 8 4 3]\n",
      " [3 9 7 6 8 5]\n",
      " [4 1 4 9 6 1]\n",
      " [4 5 5 1 8 8]\n",
      " [7 4 2 7 7 6]]\n"
     ]
    }
   ],
   "source": [
    "print(f''' A{a}''')"
   ]
  },
  {
   "cell_type": "code",
   "execution_count": 15,
   "metadata": {},
   "outputs": [],
   "source": [
    "b=np.random.randint(1,10,(p,q))"
   ]
  },
  {
   "cell_type": "code",
   "execution_count": 16,
   "metadata": {},
   "outputs": [
    {
     "name": "stdout",
     "output_type": "stream",
     "text": [
      " B[[7 7 6 1 4 8]\n",
      " [2 1 7 3 3 6]\n",
      " [1 7 6 5 1 1]\n",
      " [3 8 5 5 8 2]\n",
      " [1 9 2 9 8 1]\n",
      " [6 8 9 3 8 3]]\n"
     ]
    }
   ],
   "source": [
    "print(f''' B{b}''')"
   ]
  },
  {
   "cell_type": "code",
   "execution_count": 17,
   "metadata": {},
   "outputs": [],
   "source": [
    "t=np.dot(a,b)"
   ]
  },
  {
   "cell_type": "code",
   "execution_count": 18,
   "metadata": {},
   "outputs": [
    {
     "name": "stdout",
     "output_type": "stream",
     "text": [
      " Multipication [[ 82 195 142 122 145  73]\n",
      " [102 239 214 182 198 120]\n",
      " [ 73 191 121 129 151  69]\n",
      " [102 212 182 145 172 101]\n",
      " [123 234 185 145 202 121]]\n"
     ]
    }
   ],
   "source": [
    "print(f''' Multipication {t}''')"
   ]
  },
  {
   "cell_type": "code",
   "execution_count": null,
   "metadata": {},
   "outputs": [],
   "source": [
    "#write a python program 4.py to take n*m matrix as a user input.'n' and'm' are command line argument which are separated by a space . where n>=3 and 0>=m>=7.if this condition is false ,ask the user to enter the 'n' and 'm' again.create a zero matrix with same dimension and convert all columns in the matrix into a fibonacci series.For i th columns,the first element should be the sum of i+(i-1) value.print tthis matrix on the terminal."
   ]
  }
 ],
 "metadata": {
  "kernelspec": {
   "display_name": "Python 3",
   "language": "python",
   "name": "python3"
  },
  "language_info": {
   "codemirror_mode": {
    "name": "ipython",
    "version": 3
   },
   "file_extension": ".py",
   "mimetype": "text/x-python",
   "name": "python",
   "nbconvert_exporter": "python",
   "pygments_lexer": "ipython3",
   "version": "3.7.4"
  }
 },
 "nbformat": 4,
 "nbformat_minor": 2
}
