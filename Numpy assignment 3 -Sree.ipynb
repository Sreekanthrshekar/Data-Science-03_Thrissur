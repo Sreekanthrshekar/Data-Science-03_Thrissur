{
 "cells": [
  {
   "cell_type": "code",
   "execution_count": 45,
   "metadata": {},
   "outputs": [],
   "source": [
    "import numpy as np\n",
    "import sys"
   ]
  },
  {
   "cell_type": "markdown",
   "metadata": {},
   "source": [
    "#### 1. Replace all odd numbers in arr with -1"
   ]
  },
  {
   "cell_type": "code",
   "execution_count": null,
   "metadata": {},
   "outputs": [],
   "source": [
    "\n",
    "arr = np.array([0, 1, 2, 3, 4, 5, 6, 7, 8, 9])\n",
    "print(f'''\n",
    "array:\n",
    "{arr}''')\n",
    "\n",
    "arr[arr%2 !=0] =-1 \n",
    "\n",
    "print(f'''\n",
    "modified array:\n",
    "{arr}''')"
   ]
  },
  {
   "cell_type": "markdown",
   "metadata": {},
   "source": [
    "#### Convert a 1D array to a 2D array with 2 rows"
   ]
  },
  {
   "cell_type": "code",
   "execution_count": null,
   "metadata": {},
   "outputs": [],
   "source": [
    "arr = np.arange(10)\n",
    "print(f'''\n",
    "array:\n",
    "{arr}''')\n",
    "arr =arr.reshape(2,-1)\n",
    "\n",
    "print(f'''\n",
    "reshaped array with 2 rows:\n",
    "{arr}''')"
   ]
  },
  {
   "cell_type": "markdown",
   "metadata": {},
   "source": [
    "#### 3. Create the following pattern without hardcoding. Use only numpy functions and the below input array arr =np.array([1,2,3]). Desired Output:array ([1, 1, 2, 2, 2, 3, 3, 3, 1, 2, 3, 1, 2, 3, 1, 2, 3])"
   ]
  },
  {
   "cell_type": "code",
   "execution_count": null,
   "metadata": {},
   "outputs": [],
   "source": [
    "arr =np.array([1,2,3])\n",
    "print(f'''\n",
    "array:\n",
    "{arr}''')\n",
    "a= np.repeat(arr[0],2)\n",
    "b=np.repeat(arr[1],3)\n",
    "c=np.repeat(arr[2],3)\n",
    "d=np.tile(arr,3)\n",
    "k = np.r_[a,b,c,d]\n",
    "print(f'''\n",
    "desired output pattern:\n",
    "{k}''')"
   ]
  },
  {
   "cell_type": "markdown",
   "metadata": {},
   "source": [
    "#### Get the common items between a and b a = np.array([1,2,3,2,3,4,3,4,5,6]) b = np.array([7,2,10,2,7,4,9,4,9,8])"
   ]
  },
  {
   "cell_type": "code",
   "execution_count": null,
   "metadata": {},
   "outputs": [],
   "source": [
    "\n",
    "\n",
    "a = np.array([1,2,3,2,3,4,3,4,5,6])\n",
    "print(f'''\n",
    "array a:\n",
    "{a}''')\n",
    "b = np.array([7,2,10,2,7,4,9,4,9,8])\n",
    "print(f'''\n",
    "array b:\n",
    "{b}''')\n",
    "com = np.intersect1d(a,b)\n",
    "\n",
    "print(f'''\n",
    "common items:\n",
    "{com}''')\n",
    "\n"
   ]
  },
  {
   "cell_type": "markdown",
   "metadata": {},
   "source": [
    "#### Get the positions where elements of a and b match.a = np.array([1,2,3,2,3,4,3,4,5,6]) b = np.array([7,2,10,2,7,4,9,4,9,8])"
   ]
  },
  {
   "cell_type": "code",
   "execution_count": 57,
   "metadata": {},
   "outputs": [
    {
     "name": "stdout",
     "output_type": "stream",
     "text": [
      "\n",
      "array a:\n",
      "[1 2 3 2 3 4 3 4 5 6]\n",
      "\n",
      "array b:\n",
      "[ 7  2 10  2  7  4  9  4  9  8]\n",
      "\n",
      "a and b match at index locations:\n",
      "(array([1, 3, 5, 7]),)\n"
     ]
    }
   ],
   "source": [
    "a = np.array([1,2,3,2,3,4,3,4,5,6]) \n",
    "print(f'''\n",
    "array a:\n",
    "{a}''')\n",
    "b = np.array([7,2,10,2,7,4,9,4,9,8])\n",
    "print(f'''\n",
    "array b:\n",
    "{b}''')\n",
    "match = np.where(a == b)\n",
    "\n",
    "print(f'''\n",
    "a and b match at index locations:\n",
    "{match}''')\n"
   ]
  },
  {
   "cell_type": "markdown",
   "metadata": {},
   "source": [
    "#### Create a 2D array of shape 5x3 to contain random decimal numbers between 5 and 10."
   ]
  },
  {
   "cell_type": "code",
   "execution_count": null,
   "metadata": {},
   "outputs": [],
   "source": [
    "a= np.random.uniform(5,10,size=15).reshape(5,3)\n",
    "print(f'''\n",
    "2D array of shape 5x3 to contain random decimal numbers between 5 and 10:\n",
    "{a}''')"
   ]
  },
  {
   "cell_type": "markdown",
   "metadata": {},
   "source": [
    "#### Limit the number of items printed in python numpy array a to a maximum of 6 elements. arr = np.arange(15). Desired Output:array([ 0, 1, 2, ..., 12, 13, 14])"
   ]
  },
  {
   "cell_type": "code",
   "execution_count": 49,
   "metadata": {},
   "outputs": [
    {
     "name": "stdout",
     "output_type": "stream",
     "text": [
      "\n",
      "array:\n",
      "[ 0  1  2  3  4  5  6  7  8  9 10 11 12 13 14]\n",
      "\n",
      "same array with maximum 6 elements displayed:\n",
      "[ 0  1  2 ... 12 13 14]\n"
     ]
    }
   ],
   "source": [
    "arr = np.arange(15)\n",
    "print(f'''\n",
    "array:\n",
    "{arr}''')\n",
    "\n",
    "np.set_printoptions(threshold=6)\n",
    "\n",
    "print(f'''\n",
    "same array with maximum 6 elements displayed:\n",
    "{arr}''')\n",
    "np.set_printoptions(threshold=sys.maxsize)"
   ]
  },
  {
   "cell_type": "markdown",
   "metadata": {},
   "source": [
    "#### How to pretty print a numpy array by suppressing the scientific notation (like 1el0)?\n",
    "\n",
    "#### np.random.seed(100)\n",
    "#### rand_arr=np.random.random([3,3])/1e3\n",
    "#### Desired Output:array([[ 0.000543, 0.000278, 0.000425], [ 0.000845, 0.000005, 0.000122], [ 0.000671 , 0.000826, 0.0001371]])"
   ]
  },
  {
   "cell_type": "code",
   "execution_count": 42,
   "metadata": {},
   "outputs": [
    {
     "name": "stdout",
     "output_type": "stream",
     "text": [
      "\n",
      "array:\n",
      "[[5.434049418e-04 2.783693851e-04 4.245175907e-04]\n",
      " [8.447761323e-04 4.718856191e-06 1.215691208e-04]\n",
      " [6.707490847e-04 8.258527551e-04 1.367065897e-04]]\n",
      "\n",
      "array:\n",
      "[[0.000543 0.000278 0.000425]\n",
      " [0.000845 0.000005 0.000122]\n",
      " [0.000671 0.000826 0.000137]]\n"
     ]
    }
   ],
   "source": [
    "np.random.seed(100)\n",
    "rand_arr=np.random.random_sample([3,3])/1e3\n",
    "print(f'''\n",
    "array:\n",
    "{rand_arr}''')\n",
    "np.set_printoptions(suppress=True, precision=6)\n",
    "print(f'''\n",
    "array:\n",
    "{rand_arr}''')\n",
    "np.set_printoptions(precision =9, suppress =False)"
   ]
  },
  {
   "cell_type": "markdown",
   "metadata": {},
   "source": [
    "#### Swap columns 1 and 2 in the array arr.\n",
    "#### arr = np.arange(9).reshape(3,3)"
   ]
  },
  {
   "cell_type": "code",
   "execution_count": 55,
   "metadata": {},
   "outputs": [
    {
     "name": "stdout",
     "output_type": "stream",
     "text": [
      "\n",
      "array:\n",
      "[[0 1 2]\n",
      " [3 4 5]\n",
      " [6 7 8]]\n",
      "\n",
      "array with 1st and 2nd columns swapped:\n",
      "[[1 0 2]\n",
      " [4 3 5]\n",
      " [7 6 8]]\n"
     ]
    }
   ],
   "source": [
    "arr = np.arange(9).reshape(3,3)\n",
    "print(f'''\n",
    "array:\n",
    "{arr}''')\n",
    "u= arr[:, [1, 0, 2]]\n",
    "    \n",
    "print(f'''\n",
    "array with 1st and 2nd columns swapped:\n",
    "{u}''')"
   ]
  },
  {
   "cell_type": "markdown",
   "metadata": {},
   "source": [
    "#### Swap rows 1 and 2 in the array arr:\n",
    "#### arr = np.arange(9).reshape(3,3)"
   ]
  },
  {
   "cell_type": "code",
   "execution_count": 56,
   "metadata": {},
   "outputs": [
    {
     "name": "stdout",
     "output_type": "stream",
     "text": [
      "\n",
      "array:\n",
      "[[0 1 2]\n",
      " [3 4 5]\n",
      " [6 7 8]]\n",
      "\n",
      "array with 1st and 2nd rows swapped:\n",
      "[[3 4 5]\n",
      " [0 1 2]\n",
      " [6 7 8]]\n"
     ]
    }
   ],
   "source": [
    "arr = np.arange(9).reshape(3,3)\n",
    "print(f'''\n",
    "array:\n",
    "{arr}''')\n",
    "u= arr[[1, 0, 2],:]\n",
    "    \n",
    "print(f'''\n",
    "array with 1st and 2nd rows swapped:\n",
    "{u}''')"
   ]
  },
  {
   "cell_type": "code",
   "execution_count": null,
   "metadata": {},
   "outputs": [],
   "source": []
  }
 ],
 "metadata": {
  "kernelspec": {
   "display_name": "Python 3",
   "language": "python",
   "name": "python3"
  },
  "language_info": {
   "codemirror_mode": {
    "name": "ipython",
    "version": 3
   },
   "file_extension": ".py",
   "mimetype": "text/x-python",
   "name": "python",
   "nbconvert_exporter": "python",
   "pygments_lexer": "ipython3",
   "version": "3.7.4"
  }
 },
 "nbformat": 4,
 "nbformat_minor": 2
}
