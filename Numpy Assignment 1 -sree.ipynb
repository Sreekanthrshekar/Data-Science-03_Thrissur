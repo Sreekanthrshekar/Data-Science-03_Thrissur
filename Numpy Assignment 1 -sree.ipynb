{
 "cells": [
  {
   "cell_type": "markdown",
   "metadata": {},
   "source": [
    "1. Write a python program to take a 3X3 matrix as a user input. Convert the matrix into numpy array. Print the matrix, rank, shape of the matrix."
   ]
  },
  {
   "cell_type": "code",
   "execution_count": 1,
   "metadata": {},
   "outputs": [
    {
     "name": "stdout",
     "output_type": "stream",
     "text": [
      "Please input your first row:\n",
      "Enter the entries in a single line (separated by space)\n",
      "2 3 4\n",
      "Please input your second row:\n",
      "Enter the entries in a single line (separated by space)\n",
      "5 6 7\n",
      "Please input your third row:\n",
      "Enter the entries in a single line (separated by space)\n",
      "8 9 0\n",
      "\n",
      "\n",
      "Matrix\n",
      "[[2, 3, 4], [5, 6, 7], [8, 9, 0]]\n",
      "\n",
      "\n",
      "As array \n",
      "[[2 3 4]\n",
      " [5 6 7]\n",
      " [8 9 0]]\n",
      "\n",
      " \n",
      "Rank \n",
      "2\n",
      "\n",
      " \n",
      "shape\n",
      "(3, 3)\n",
      "\n"
     ]
    }
   ],
   "source": [
    "import numpy as np\n",
    "list_1 =list(map(int,input('''Please input your first row:\n",
    "Enter the entries in a single line (separated by space)\n",
    "''' ).split()))\n",
    "\n",
    "list_2 =list(map(int,input('''Please input your second row:\n",
    "Enter the entries in a single line (separated by space)\n",
    "''' ).split()))\n",
    "list_3 =list(map(int,input('''Please input your third row:\n",
    "Enter the entries in a single line (separated by space)\n",
    "''' ).split()))\n",
    "lst=[]\n",
    "lst.append(list_1)\n",
    "lst.append(list_2)\n",
    "lst.append(list_3)\n",
    "print(f'''\n",
    "\n",
    "Matrix\n",
    "{lst}''')\n",
    "\n",
    "a=np.array(lst)\n",
    "\n",
    "\n",
    "print(f'''\n",
    "\n",
    "As array \n",
    "{a}\n",
    "''')\n",
    "\n",
    "j=a.ndim\n",
    "h=a.shape\n",
    "print(f''' \n",
    "Rank \n",
    "{j}\n",
    "''')\n",
    "print(f''' \n",
    "shape\n",
    "{h}\n",
    "''')"
   ]
  },
  {
   "cell_type": "markdown",
   "metadata": {},
   "source": [
    "2. Write a function that generates 10 integers and use it to build an array"
   ]
  },
  {
   "cell_type": "code",
   "execution_count": 2,
   "metadata": {},
   "outputs": [
    {
     "name": "stdout",
     "output_type": "stream",
     "text": [
      "range(0, 10)\n",
      "[0 1 2 3 4 5 6 7 8 9]\n"
     ]
    }
   ],
   "source": [
    "r =range(10)\n",
    "print(r)\n",
    "a =np.array(r)\n",
    "print(a)"
   ]
  },
  {
   "cell_type": "markdown",
   "metadata": {},
   "source": [
    "3. Create a random vector (1D array) of size 10 and sort it"
   ]
  },
  {
   "cell_type": "code",
   "execution_count": 3,
   "metadata": {},
   "outputs": [
    {
     "name": "stdout",
     "output_type": "stream",
     "text": [
      "Random list of 10 numbers is [36, 40, 6, 11, 48, 22, 17, 69, 0, 84]\n",
      "Sorted list of the above is [0, 6, 11, 17, 22, 36, 40, 48, 69, 84]\n"
     ]
    }
   ],
   "source": [
    "rand =list(np.random.randint(0,100,10))\n",
    "print(f\"Random list of 10 numbers is {rand}\")\n",
    "\n",
    "k = sorted(rand)\n",
    "print(f\"Sorted list of the above is {k}\")"
   ]
  },
  {
   "cell_type": "markdown",
   "metadata": {},
   "source": [
    "4.Write a Python program to generate five random numbers from the normal distribution.\n",
    "[Hint: use np.random.normal]"
   ]
  },
  {
   "cell_type": "code",
   "execution_count": 4,
   "metadata": {},
   "outputs": [
    {
     "name": "stdout",
     "output_type": "stream",
     "text": [
      "[-0.50032697 -0.0210828   2.55563058  1.24723016 -0.23859437]\n"
     ]
    }
   ],
   "source": [
    "q =np.random.normal(size=5)\n",
    "print(q)"
   ]
  },
  {
   "cell_type": "markdown",
   "metadata": {},
   "source": [
    "5.Write a numpy program program to add and subtract two random matrices. The size of the\n",
    "matrix will a user input. All the matrix element should be a positive integer value. Suppose\n",
    "'A' and 'B' are two matrix. All the value of 'A' matrix cannot be greater than 10 and values of\n",
    "'B' matrix cannot be greater than 20."
   ]
  },
  {
   "cell_type": "code",
   "execution_count": 5,
   "metadata": {},
   "outputs": [
    {
     "name": "stdout",
     "output_type": "stream",
     "text": [
      "Please enter the number of rows:\n",
      "3\n",
      "Please enter the number of columns:\n",
      "6\n",
      "\n",
      " A\n",
      "[[9 8 9 5 8 1]\n",
      " [9 6 8 6 9 2]\n",
      " [8 6 8 8 6 7]]\n",
      "\n",
      "\n",
      " B\n",
      "[[ 4  3  9 10 19  5]\n",
      " [ 2  8 10 14  5  8]\n",
      " [ 9 12  2 15 19 10]]\n",
      "\n",
      "\n",
      " Addition\n",
      "[[13 11 18 15 27  6]\n",
      " [11 14 18 20 14 10]\n",
      " [17 18 10 23 25 17]]\n",
      "\n",
      "\n",
      " Subtraction\n",
      "[[  5   5   0  -5 -11  -4]\n",
      " [  7  -2  -2  -8   4  -6]\n",
      " [ -1  -6   6  -7 -13  -3]]\n",
      "\n"
     ]
    }
   ],
   "source": [
    "n= int(input('''Please enter the number of rows:\n",
    "'''))\n",
    "m=int(input('''Please enter the number of columns:\n",
    "'''))\n",
    "a=np.random.randint(1,10,(n,m))\n",
    "print(f'''\n",
    " A\n",
    "{a}\n",
    "''')\n",
    "\n",
    "b=np.random.randint(1,20,(n,m))\n",
    "print(f'''\n",
    " B\n",
    "{b}\n",
    "''')\n",
    "\n",
    "q=a+b\n",
    "print(f'''\n",
    " Addition\n",
    "{q}\n",
    "''')\n",
    "k=a-b\n",
    "print(f'''\n",
    " Subtraction\n",
    "{k}\n",
    "''')"
   ]
  },
  {
   "cell_type": "markdown",
   "metadata": {},
   "source": [
    "6. Write a numpy program program to multiply two random matrices. The size of the matrices\n",
    "will a user input. All the matrix element should be a positive integer value. Suppose 'A' and\n",
    "'B' are two matrix. All the value of 'A', 'B' matrices cannot be greater than 10. Example :"
   ]
  },
  {
   "cell_type": "code",
   "execution_count": 6,
   "metadata": {},
   "outputs": [
    {
     "name": "stdout",
     "output_type": "stream",
     "text": [
      "Please enter the number of rows for matrix 1:\n",
      "6\n",
      "Please enter the number of columns for matrix 1:\n",
      "7\n",
      "Please enter the number of rows for matrix 2:\n",
      "7\n",
      "Please enter the number of columns for matrix 2:\n",
      "8\n",
      "\n",
      " A\n",
      "[[2 9 2 9 7 7 4]\n",
      " [6 6 1 4 4 1 8]\n",
      " [8 8 2 6 7 7 3]\n",
      " [1 6 2 1 7 7 3]\n",
      " [1 7 2 4 8 5 1]\n",
      " [1 2 2 5 3 8 4]]\n",
      "\n",
      "\n",
      " B\n",
      "[[1 3 3 5 6 4 6 2]\n",
      " [4 4 4 1 2 9 1 2]\n",
      " [6 7 4 6 8 7 4 1]\n",
      " [4 2 8 2 8 9 6 2]\n",
      " [3 2 7 4 3 6 7 4]\n",
      " [8 4 4 8 6 1 5 9]\n",
      " [2 4 3 6 9 6 5 9]]\n",
      "\n",
      "\n",
      " Multiplication\n",
      "[[171 132 211 157 217 257 187 169]\n",
      " [ 88 101 134 122 178 194 143 130]\n",
      " [159 136 198 174 218 239 199 164]\n",
      " [124  97 129 127 132 148 125 136]\n",
      " [123  93 150 110 131 176 131 112]\n",
      " [122  89 124 129 159 131 127 138]]\n",
      "\n"
     ]
    }
   ],
   "source": [
    "n= int(input('''Please enter the number of rows for matrix 1:\n",
    "'''))\n",
    "m=int(input('''Please enter the number of columns for matrix 1:\n",
    "'''))\n",
    "p= int(input('''Please enter the number of rows for matrix 2:\n",
    "'''))\n",
    "q=int(input('''Please enter the number of columns for matrix 2:\n",
    "'''))\n",
    "a=np.random.randint(1,10,(n,m))\n",
    "print(f'''\n",
    " A\n",
    "{a}\n",
    "''')\n",
    "\n",
    "b=np.random.randint(1,10,(p,q))\n",
    "print(f'''\n",
    " B\n",
    "{b}\n",
    "''')\n",
    "\n",
    "t=np.dot(a,b)\n",
    "print(f'''\n",
    " Multiplication\n",
    "{t}\n",
    "''')\n"
   ]
  },
  {
   "cell_type": "markdown",
   "metadata": {},
   "source": [
    "Write a python program 4.py to take nXm matrix as a user input. 'n' and 'm' are command line\n",
    "argument which are separated by a space. Where n >= 3 and 0>=m<=7. If this condition is\n",
    "false, ask the user to enter the 'n' and 'm' again. Create a zero matrix with same dimension\n",
    "and convert all columns in the matrix into a fibonacci series. For i th column, the first element\n",
    "should be the sum of i+(i-1) value. Print this matrix on the terminal."
   ]
  },
  {
   "cell_type": "code",
   "execution_count": 2,
   "metadata": {},
   "outputs": [
    {
     "name": "stdout",
     "output_type": "stream",
     "text": [
      "Enter the number of rows:4\n",
      "Enter the number of columns:6\n",
      "\n",
      "The 4 x 6 zero matrix is:        \n",
      "[[0. 0. 0. 0. 0. 0.]\n",
      " [0. 0. 0. 0. 0. 0.]\n",
      " [0. 0. 0. 0. 0. 0.]\n",
      " [0. 0. 0. 0. 0. 0.]]\n",
      " \n",
      "The Fibonacci matrix is:\n",
      "[[ 0.  1.  1.  2.  3.  5.]\n",
      " [ 1.  1.  2.  3.  5.  8.]\n",
      " [ 1.  2.  3.  5.  8. 13.]\n",
      " [ 2.  3.  5.  8. 13. 21.]]\n"
     ]
    }
   ],
   "source": [
    "#7. Write a python program 4.py to take nXm matrix as a user input. 'n' and 'm' are command line argument which are separated by a space. Where n >= 3 and 0>=m<=7. If this condition is false, ask the user to enter the 'n' and 'm' again. Create a zero matrix with same dimension and convert all columns in the matrix into a fibonacci series. For i th column, the first element should be the sum of i+(i-1) value. Print this matrix on the terminal.\n",
    "import numpy as np\n",
    "\n",
    "n = int(input(\"Enter the number of rows:\")) \n",
    "m = int(input(\"Enter the number of columns:\")) \n",
    "\n",
    "if n>3 and 0<m<=7:\n",
    "    s=(n,m)\n",
    "    matrix = np.zeros(s)\n",
    "    print(f'''\n",
    "The {n} x {m} zero matrix is:        \n",
    "{matrix}''')\n",
    "\n",
    "else:\n",
    "    print(\"enter n and m again\")\n",
    "\n",
    "rows = matrix.shape[0]\n",
    "cols = matrix.shape[1]   \n",
    "    \n",
    "    \n",
    "def Fibonacci(n): \n",
    "    if n<0: \n",
    "        return 0\n",
    "    # First Fibonacci number is 0 \n",
    "    elif n==0: \n",
    "        return 0\n",
    "    # Second Fibonacci number is 1 \n",
    "    elif n==1: \n",
    "        return 1\n",
    "    else: \n",
    "        return Fibonacci(n-1)+Fibonacci(n-2) \n",
    "k=0\n",
    "\n",
    "for i in range(0,rows):\n",
    "    for j in range(0, cols):\n",
    "        matrix[i,j] = Fibonacci(i+j)\n",
    "        \n",
    "\n",
    "    \n",
    "print(f''' \n",
    "The Fibonacci matrix is:\n",
    "{matrix}''')\n"
   ]
  }
 ],
 "metadata": {
  "kernelspec": {
   "display_name": "Python 3",
   "language": "python",
   "name": "python3"
  },
  "language_info": {
   "codemirror_mode": {
    "name": "ipython",
    "version": 3
   },
   "file_extension": ".py",
   "mimetype": "text/x-python",
   "name": "python",
   "nbconvert_exporter": "python",
   "pygments_lexer": "ipython3",
   "version": "3.7.4"
  }
 },
 "nbformat": 4,
 "nbformat_minor": 2
}
