{
 "cells": [
  {
   "cell_type": "markdown",
   "metadata": {},
   "source": [
    "#### Multiply the two matrices.\n",
    "#### Input : X = [[1, 4, 3],[3, 5, 6],[6, 7, 9]]\n",
    "#### Y = [[1, 2, 5, 12],[6, 7, 3, 0],[4, 7, 9, 11]]"
   ]
  },
  {
   "cell_type": "code",
   "execution_count": 2,
   "metadata": {},
   "outputs": [
    {
     "name": "stdout",
     "output_type": "stream",
     "text": [
      "\n",
      " X :\n",
      "[[1, 4, 3], [3, 5, 6], [6, 7, 9]]\n",
      "\n",
      " Y :\n",
      "[[1, 2, 5, 12], [6, 7, 3, 0], [4, 7, 9, 11]]\n",
      "\n",
      "multiplication of matrices X and Y:\n",
      "[[ 37  51  44  45]\n",
      " [ 57  83  84 102]\n",
      " [ 84 124 132 171]]\n"
     ]
    }
   ],
   "source": [
    "import numpy as np\n",
    "\n",
    "X = [[1, 4, 3],[3, 5, 6],[6, 7, 9]]\n",
    "Y = [[1, 2, 5, 12],[6, 7, 3, 0],[4, 7, 9, 11]]\n",
    "print(f'''\n",
    " X :\n",
    "{X}''')\n",
    "\n",
    "print(f'''\n",
    " Y :\n",
    "{Y}''')\n",
    "\n",
    "\n",
    "a=np.array(X)\n",
    "\n",
    "b =np.array(Y)\n",
    "c=(np.dot(a,b))\n",
    "print(f'''\n",
    "multiplication of matrices X and Y:\n",
    "{c}''')"
   ]
  },
  {
   "cell_type": "markdown",
   "metadata": {},
   "source": [
    "#### Extract all numbers divisible by 3 from the array\n",
    "#### Input:\n",
    "#### arr = np.array([0, 1, 2, 3, 4, 5, 6, 7, 8, 9,10,11,12])"
   ]
  },
  {
   "cell_type": "code",
   "execution_count": 2,
   "metadata": {},
   "outputs": [
    {
     "name": "stdout",
     "output_type": "stream",
     "text": [
      "\n",
      " array:\n",
      "[ 0  1  2  3  4  5  6  7  8  9 10 11 12]\n"
     ]
    },
    {
     "data": {
      "text/plain": [
       "array([ 0,  3,  6,  9, 12])"
      ]
     },
     "execution_count": 2,
     "metadata": {},
     "output_type": "execute_result"
    }
   ],
   "source": [
    "arr = np.array([0, 1, 2, 3, 4, 5, 6, 7, 8, 9,10,11,12])\n",
    "print(f'''\n",
    " array:\n",
    "{arr}''')\n",
    "arr[arr%3==0]\n",
    "\n"
   ]
  },
  {
   "cell_type": "markdown",
   "metadata": {},
   "source": [
    "3. How to get the unique common items between two python numpy arrays?\n",
    "Q. Get the unique common items between a and b\n",
    "Input:\n",
    "a = np.array([1,2,3,2,3,4,3,4,5,6])\n",
    "b = np.array([7,2,10,2,7,4,9,4,9,8])\n",
    "Desired Output:\n",
    "array([2, 4])"
   ]
  },
  {
   "cell_type": "code",
   "execution_count": 6,
   "metadata": {},
   "outputs": [
    {
     "name": "stdout",
     "output_type": "stream",
     "text": [
      "\n",
      " array a:\n",
      "[1 2 3 2 3 4 3 4 5 6]\n",
      "\n",
      " array b:\n",
      "[ 7  2 10  2  7  4  9  4  9  8]\n",
      "\n",
      " unique common items between a and b :\n",
      "[2 4]\n"
     ]
    }
   ],
   "source": [
    "a = np.array([1,2,3,2,3,4,3,4,5,6]) \n",
    "b = np.array([7,2,10,2,7,4,9,4,9,8]) \n",
    "print(f'''\n",
    " array a:\n",
    "{a}''')\n",
    "\n",
    "print(f'''\n",
    " array b:\n",
    "{b}''')\n",
    "\n",
    "com = np.intersect1d(a,b)\n",
    "print(f'''\n",
    " unique common items between a and b :\n",
    "{com}''')"
   ]
  },
  {
   "cell_type": "markdown",
   "metadata": {},
   "source": [
    "4. How to remove from one array those items that exist in another?\n",
    "Q. From array a remove all items present in array b\n",
    "Input:\n",
    "a = np.array([1,2,3,4,5,11,22,33,44,55])\n",
    "b = np.array([5,6,7,8,9,10,11])\n",
    "Desired Output:\n",
    "array([1,2,3,4,22,33,44,55])"
   ]
  },
  {
   "cell_type": "code",
   "execution_count": 16,
   "metadata": {},
   "outputs": [
    {
     "name": "stdout",
     "output_type": "stream",
     "text": [
      "\n",
      " array a:\n",
      "[ 1  2  3  4  5 11 22 33 44 55]\n",
      "\n",
      " array b:\n",
      "[ 5  6  7  8  9 10 11]\n",
      "\n",
      " array a,  after removing common items found in b :\n",
      "[ 1  2  3  4 22 33 44 55]\n"
     ]
    }
   ],
   "source": [
    "a = np.array([1,2,3,4,5,11,22,33,44,55]) \n",
    "b = np.array([5,6,7,8,9,10,11]) \n",
    "print(f'''\n",
    " array a:\n",
    "{a}''')\n",
    "\n",
    "print(f'''\n",
    " array b:\n",
    "{b}''')\n",
    "c =np.setdiff1d(a,b)\n",
    "print(f'''\n",
    " array a,  after removing common items found in b :\n",
    "{c}''')\n"
   ]
  },
  {
   "cell_type": "markdown",
   "metadata": {},
   "source": [
    "5. How to get the positions where elements of two arrays match?\n",
    "Q. Get the positions where elements of a and b match\n",
    "Input:\n",
    "a = np.array([1,2,3,2,3,4,3,4,5,6])\n",
    "b = np.array([7,2,10,2,7,4,9,4,9,8])"
   ]
  },
  {
   "cell_type": "code",
   "execution_count": 32,
   "metadata": {},
   "outputs": [
    {
     "name": "stdout",
     "output_type": "stream",
     "text": [
      "\n",
      " array a:\n",
      "[1 2 3 2 3 4 3 4 5 6]\n",
      "\n",
      " array b:\n",
      "[ 7  2 10  2  7  4  9  4  9  8]\n",
      "\n",
      "index positions where array a and b match is:\n",
      "(array([1, 3, 5, 7]),)\n"
     ]
    }
   ],
   "source": [
    "a = np.array([1,2,3,2,3,4,3,4,5,6]) \n",
    "b = np.array([7,2,10,2,7,4,9,4,9,8])\n",
    "print(f'''\n",
    " array a:\n",
    "{a}''')\n",
    "\n",
    "print(f'''\n",
    " array b:\n",
    "{b}''')\n",
    "k = np.where(a == b)\n",
    "k\n",
    "print(f'''\n",
    "index positions where array a and b match is:\n",
    "{k}''')"
   ]
  },
  {
   "cell_type": "markdown",
   "metadata": {},
   "source": [
    "Create a 2D array of shape 5x3 to contain random decimal numbers between 10 and 25."
   ]
  },
  {
   "cell_type": "code",
   "execution_count": 18,
   "metadata": {},
   "outputs": [
    {
     "name": "stdout",
     "output_type": "stream",
     "text": [
      "\n",
      " array :\n",
      "[[22.63685708 13.1530685  21.16397802]\n",
      " [11.66277294 18.71042433 11.21491189]\n",
      " [21.36270676 21.13811523 20.90967172]\n",
      " [20.70012504 14.38011771 24.48559911]\n",
      " [19.43858261 20.96278424 18.25716314]]\n"
     ]
    }
   ],
   "source": [
    "arr=np.random.uniform(10,25,size=15).reshape(5,3)\n",
    "print(f'''\n",
    " array :\n",
    "{arr}''')"
   ]
  },
  {
   "cell_type": "markdown",
   "metadata": {},
   "source": [
    "Take a string as input. Create a new string that is the reverse of the first string.\n",
    "    A =”Hello”\n",
    "    Result = “olleH”"
   ]
  },
  {
   "cell_type": "code",
   "execution_count": 23,
   "metadata": {},
   "outputs": [
    {
     "name": "stdout",
     "output_type": "stream",
     "text": [
      "\n",
      "string:\n",
      "Hello\n",
      "\n",
      "string reversed:\n",
      "olleH\n"
     ]
    }
   ],
   "source": [
    "A = \"Hello\"\n",
    "print(f'''\n",
    "string:\n",
    "{A}''')\n",
    "B =A[::-1]\n",
    "print(f'''\n",
    "string reversed:\n",
    "{B}''')\n",
    "\n",
    "\n"
   ]
  },
  {
   "cell_type": "markdown",
   "metadata": {},
   "source": [
    "Write a Python program to remove the first occurrence of a specified element  (ex 7 ) from an array.\n",
    "   Repeat the same for all occurrences of 7"
   ]
  },
  {
   "cell_type": "code",
   "execution_count": 29,
   "metadata": {},
   "outputs": [
    {
     "name": "stdout",
     "output_type": "stream",
     "text": [
      " \n",
      "array is:\n",
      "[ 1  2  3  4  5  6  7  8  9  7 11  7]\n",
      "\n",
      " \n",
      "array after removing the first occurrence of a 7 is:\n",
      "[ 1  2  3  4  5  6  8  9  7 11  7]\n"
     ]
    }
   ],
   "source": [
    "\n",
    "arr = np.array([1,2,3,4,5,6,7,8, 9,7,11,7])\n",
    "\n",
    "\n",
    "flatten_list = list(arr)\n",
    "\n",
    "for i in flatten_list:\n",
    "    if i==7:\n",
    "        flatten_list.remove(i)\n",
    "        break\n",
    "\n",
    "\n",
    "k =np.array(flatten_list)\n",
    "print(f''' \n",
    "array is:\n",
    "{arr}\n",
    "''')    \n",
    "       \n",
    "print(f''' \n",
    "array after removing the first occurrence of a 7 is:\n",
    "{k}''')    \n",
    "\n",
    "\n"
   ]
  },
  {
   "cell_type": "code",
   "execution_count": 30,
   "metadata": {},
   "outputs": [
    {
     "name": "stdout",
     "output_type": "stream",
     "text": [
      " \n",
      "array is:\n",
      "[ 1  2  3  4  5  6  7  8  9  7 11  7]\n",
      "\n",
      " \n",
      "array after removing the all occurrences of 7 is:\n",
      "[ 1  2  3  4  5  6  8  9 11]\n"
     ]
    }
   ],
   "source": [
    "arr = np.array([1,2,3,4,5,6,7,8, 9,7,11,7])\n",
    "\n",
    "\n",
    "flatten_list = list(arr)\n",
    "\n",
    "for i in flatten_list:\n",
    "    if i==7:\n",
    "        flatten_list.remove(i)\n",
    "\n",
    "        \n",
    "k =np.array(flatten_list)\n",
    "print(f''' \n",
    "array is:\n",
    "{arr}\n",
    "''')    \n",
    "       \n",
    "print(f''' \n",
    "array after removing the all occurrences of 7 is:\n",
    "{k}''') "
   ]
  },
  {
   "cell_type": "markdown",
   "metadata": {},
   "source": [
    "Write a Python program that iterate over elements repeating each as many times as its count."
   ]
  },
  {
   "cell_type": "code",
   "execution_count": 1,
   "metadata": {},
   "outputs": [
    {
     "name": "stdout",
     "output_type": "stream",
     "text": [
      "[1, 3, 3, 3, 5, 5, 5, 5, 5, 7, 7, 7, 7, 7, 7, 7, 9, 9, 9, 9, 9, 9, 9, 9, 9]\n"
     ]
    }
   ],
   "source": [
    "list_1 = [1, 3, 5, 7, 9]\n",
    "l=[]\n",
    "for p in list_1:\n",
    "    for q in range(p):\n",
    "        l.append(p)\n",
    "        \n",
    "print(l)            "
   ]
  },
  {
   "cell_type": "markdown",
   "metadata": {},
   "source": [
    "#### Write a Python program to find the occurrences of 10 most common words in a given text.Do the same for words which are at least 4 characters long."
   ]
  },
  {
   "cell_type": "code",
   "execution_count": 4,
   "metadata": {},
   "outputs": [
    {
     "name": "stdout",
     "output_type": "stream",
     "text": [
      " \n",
      "10 most common words in a given text along with their count is:\n",
      "{'Machine': 2, 'learning': 2, 'of': 2, 'that': 2, 'the': 2, 'learn': 2, 'and': 2, 'is': 1, 'an': 1, 'application': 1}\n"
     ]
    }
   ],
   "source": [
    "import operator\n",
    "import itertools  \n",
    "\n",
    "def word_count(str):\n",
    "    counts = dict()\n",
    "    words = str.split()\n",
    "\n",
    "    for word in words:\n",
    "        if word in counts:\n",
    "            counts[word] += 1\n",
    "        else:\n",
    "            counts[word] = 1\n",
    "\n",
    "    return counts\n",
    "\n",
    "k = word_count(\"Machine learning is an application of artificial intelligence (AI) that provides systems the ability to automatically learn and improve from experience without being explicitly programmed. Machine learning focuses on the development of computer programs that can access data and use it learn for themselves.\")\n",
    "sorted_d = sorted(k.items(), key=operator.itemgetter(1))\n",
    "sorted_d = dict( sorted(k.items(), key=operator.itemgetter(1),reverse=True))\n",
    "out = dict(itertools.islice(sorted_d.items(), 10)) \n",
    "print(f''' \n",
    "10 most common words in a given text along with their count is:\n",
    "{out}''')"
   ]
  },
  {
   "cell_type": "code",
   "execution_count": 3,
   "metadata": {},
   "outputs": [
    {
     "name": "stdout",
     "output_type": "stream",
     "text": [
      " \n",
      "10 most common words in a given text, which are atleast 4 characters long, along with their count is:\n",
      "\n",
      "{'Machine': 2, 'learning': 2, 'that': 2, 'learn': 2, 'application': 1, 'artificial': 1, 'intelligence': 1, '(AI)': 1, 'provides': 1, 'systems': 1}\n"
     ]
    }
   ],
   "source": [
    "import operator\n",
    "import itertools  \n",
    "\n",
    "def word_count(str):\n",
    "    counts = dict()\n",
    "    words = str.split()\n",
    "\n",
    "    for word in words:\n",
    "        if len(list(word))<= 3:\n",
    "                continue\n",
    "        if word in counts:\n",
    "            \n",
    "            counts[word] += 1\n",
    "        else:\n",
    "            counts[word] = 1\n",
    "\n",
    "    return counts\n",
    "\n",
    "k = word_count(\"Machine learning is an application of artificial intelligence (AI) that provides systems the ability to automatically learn and improve from experience without being explicitly programmed. Machine learning focuses on the development of computer programs that can access data and use it learn for themselves.\")\n",
    "sorted_d = sorted(k.items(), key=operator.itemgetter(1))\n",
    "sorted_d = dict( sorted(k.items(), key=operator.itemgetter(1),reverse=True))\n",
    "out = dict(itertools.islice(sorted_d.items(), 10)) \n",
    "print(f''' \n",
    "10 most common words in a given text, which are atleast 4 characters long, along with their count is:\n",
    "\n",
    "{out}''')"
   ]
  },
  {
   "cell_type": "markdown",
   "metadata": {},
   "source": [
    "#### 11. Create a python program to generate the Fibonocci series."
   ]
  },
  {
   "cell_type": "code",
   "execution_count": 4,
   "metadata": {},
   "outputs": [
    {
     "name": "stdout",
     "output_type": "stream",
     "text": [
      "Enter the numbers of elements required in your Fibonacci series\n",
      "18\n"
     ]
    },
    {
     "data": {
      "text/plain": [
       "[1, 1, 2, 3, 5, 8, 13, 21, 34, 55, 89, 144, 233, 377, 610, 987, 1597, 2584]"
      ]
     },
     "execution_count": 4,
     "metadata": {},
     "output_type": "execute_result"
    }
   ],
   "source": [
    "def Fibonocci(n):\n",
    "    lis =[]\n",
    "    first_num =0\n",
    "    second_num =1\n",
    "    if n<=0:\n",
    "        return print(\"Not a valid input\")\n",
    "    elif n==1:\n",
    "        lis.append(n)\n",
    "        return lis\n",
    "    else:\n",
    "        k=1\n",
    "        for i in range(0,n):\n",
    "            lis.append(k)\n",
    "            k = second_num + first_num\n",
    "            first_num =second_num\n",
    "            second_num = k\n",
    "            \n",
    "        return lis\n",
    "k =int(input('''Enter the numbers of elements required in your Fibonacci series\n",
    "'''))    \n",
    "Fibonocci(k)"
   ]
  },
  {
   "cell_type": "code",
   "execution_count": null,
   "metadata": {},
   "outputs": [],
   "source": []
  }
 ],
 "metadata": {
  "kernelspec": {
   "display_name": "Python 3",
   "language": "python",
   "name": "python3"
  },
  "language_info": {
   "codemirror_mode": {
    "name": "ipython",
    "version": 3
   },
   "file_extension": ".py",
   "mimetype": "text/x-python",
   "name": "python",
   "nbconvert_exporter": "python",
   "pygments_lexer": "ipython3",
   "version": "3.7.4"
  }
 },
 "nbformat": 4,
 "nbformat_minor": 2
}
